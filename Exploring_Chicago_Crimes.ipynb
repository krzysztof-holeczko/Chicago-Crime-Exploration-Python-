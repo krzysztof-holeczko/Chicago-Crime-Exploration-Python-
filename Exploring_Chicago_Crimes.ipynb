{
 "cells": [
  {
   "cell_type": "markdown",
   "metadata": {},
   "source": [
    "## Exploring Chicago crimes for last 12 months"
   ]
  },
  {
   "cell_type": "markdown",
   "metadata": {},
   "source": [
    "###### Whole exploration is an excuse to play with Python 'Counter' and 'defaultdict' classes"
   ]
  },
  {
   "cell_type": "markdown",
   "metadata": {},
   "source": [
    "Importing packages"
   ]
  },
  {
   "cell_type": "code",
   "execution_count": 15,
   "metadata": {},
   "outputs": [],
   "source": [
    "from urllib.request import urlretrieve\n",
    "import csv\n",
    "from collections import Counter\n",
    "from collections import defaultdict\n",
    "from datetime import datetime"
   ]
  },
  {
   "cell_type": "markdown",
   "metadata": {},
   "source": [
    "### 1. Importing data (last 12 months)"
   ]
  },
  {
   "cell_type": "markdown",
   "metadata": {},
   "source": [
    "Getting data from City of Chicago open data API"
   ]
  },
  {
   "cell_type": "code",
   "execution_count": null,
   "metadata": {
    "scrolled": true
   },
   "outputs": [],
   "source": [
    "URL = 'https://data.cityofchicago.org/api/views/x2n5-8w5q/rows.csv?accessType=DOWNLOAD'\n",
    "urlretrieve(URL, 'chicago_crimes.csv')"
   ]
  },
  {
   "cell_type": "markdown",
   "metadata": {},
   "source": [
    "Reading data from response into a list of tupples"
   ]
  },
  {
   "cell_type": "code",
   "execution_count": 20,
   "metadata": {
    "scrolled": true
   },
   "outputs": [
    {
     "name": "stdout",
     "output_type": "stream",
     "text": [
      "('DATE  OF OCCURRENCE', 'BLOCK', ' PRIMARY DESCRIPTION', ' SECONDARY DESCRIPTION', ' LOCATION DESCRIPTION', 'ARREST', 'DOMESTIC', 'WARD')\n",
      "[('02/05/2020 02:54:00 PM', '030XX N HALSTED ST', 'THEFT', 'RETAIL THEFT', 'DRUG STORE', 'N', 'N', '44'), ('11/03/2019 11:40:00 AM', '032XX N CLARK ST', 'THEFT', 'RETAIL THEFT', 'DEPARTMENT STORE', 'N', 'N', '44'), ('11/03/2019 04:30:00 AM', '107XX S PEORIA ST', 'CRIMINAL DAMAGE', 'TO VEHICLE', 'RESIDENTIAL YARD (FRONT/BACK)', 'N', 'N', '34')]\n"
     ]
    }
   ],
   "source": [
    "file = open('chicago_crimes.csv','r')\n",
    "text = csv.reader(file)\n",
    "data = []\n",
    "\n",
    "for row in text:\n",
    "    data.append((row[1], row[2], row[4], row[5], row[6], row[7], row[8], row[10]))\n",
    "\n",
    "print(data[0])\n",
    "    \n",
    "data.pop(0)\n",
    "\n",
    "file.close()\n",
    "\n",
    "print(data[:3])"
   ]
  },
  {
   "cell_type": "markdown",
   "metadata": {},
   "source": [
    "### 2. What are top-3 crime months in Chicago?"
   ]
  },
  {
   "cell_type": "markdown",
   "metadata": {},
   "source": [
    "instantiating Counter object"
   ]
  },
  {
   "cell_type": "code",
   "execution_count": null,
   "metadata": {},
   "outputs": [],
   "source": [
    "monthly_crimes = Counter()"
   ]
  },
  {
   "cell_type": "markdown",
   "metadata": {},
   "source": [
    "looping over data to get number of crimes per month"
   ]
  },
  {
   "cell_type": "code",
   "execution_count": 17,
   "metadata": {},
   "outputs": [
    {
     "name": "stdout",
     "output_type": "stream",
     "text": [
      "[(1, 38650), (2, 33444), (3, 40714), (4, 41798), (5, 46998), (6, 46848), (7, 49382), (8, 48248), (9, 44428), (10, 42892), (11, 39326), (12, 40812)]\n"
     ]
    }
   ],
   "source": [
    "for row in data:\n",
    "    date = datetime.strptime(row[0], \"%m/%d/%Y %I:%M:%S %p\")\n",
    "    monthly_crimes[date.month] += 1\n",
    "\n",
    "print(sorted(monthly_crimes.items()))"
   ]
  },
  {
   "cell_type": "markdown",
   "metadata": {},
   "source": [
    "###### Print top-3 crime months in Chicago"
   ]
  },
  {
   "cell_type": "code",
   "execution_count": 18,
   "metadata": {},
   "outputs": [
    {
     "name": "stdout",
     "output_type": "stream",
     "text": [
      "In the last 12 months there were:\n",
      "- 49382 crimes commited in month 7\n",
      "- 48248 crimes commited in month 8\n",
      "- 46998 crimes commited in month 5\n"
     ]
    }
   ],
   "source": [
    "top3_months = monthly_crimes.most_common(3)\n",
    "print('In the last 12 months there were:')\n",
    "print('- ' + str(top3_months[0][1]) + ' crimes commited in month ' + str(top3_months[0][0]))\n",
    "print('- ' + str(top3_months[1][1]) + ' crimes commited in month ' + str(top3_months[1][0]))\n",
    "print('- ' + str(top3_months[2][1]) + ' crimes commited in month ' + str(top3_months[2][0]))"
   ]
  },
  {
   "cell_type": "markdown",
   "metadata": {},
   "source": [
    "### 3. What locations are the most dangerous in the top month?"
   ]
  },
  {
   "cell_type": "markdown",
   "metadata": {},
   "source": [
    "instantiating defaultdict object"
   ]
  },
  {
   "cell_type": "code",
   "execution_count": 22,
   "metadata": {},
   "outputs": [],
   "source": [
    "location_monthly_crimes = defaultdict(list)"
   ]
  },
  {
   "cell_type": "markdown",
   "metadata": {},
   "source": [
    "looping over data to get a list of crime locations per month"
   ]
  },
  {
   "cell_type": "code",
   "execution_count": 23,
   "metadata": {},
   "outputs": [],
   "source": [
    "for row in data:\n",
    "    date = datetime.strptime(row[0], \"%m/%d/%Y %I:%M:%S %p\")\n",
    "    location_monthly_crimes[date.month].append(row[4])"
   ]
  },
  {
   "cell_type": "markdown",
   "metadata": {},
   "source": [
    "count location per month using Counter"
   ]
  },
  {
   "cell_type": "code",
   "execution_count": 24,
   "metadata": {
    "scrolled": true
   },
   "outputs": [
    {
     "name": "stdout",
     "output_type": "stream",
     "text": [
      "[('STREET', 5646), ('RESIDENCE', 3963), ('APARTMENT', 3062)]\n"
     ]
    }
   ],
   "source": [
    "for month, place in location_monthly_crimes.items():\n",
    "    if month in {top3_months[0][0]}:\n",
    "        count = Counter(place)\n",
    "        top_locations = count.most_common(3)\n",
    "        print(top_locations)"
   ]
  },
  {
   "cell_type": "markdown",
   "metadata": {},
   "source": [
    "###### Print top-3 crime locations for the top month"
   ]
  },
  {
   "cell_type": "code",
   "execution_count": 25,
   "metadata": {},
   "outputs": [
    {
     "name": "stdout",
     "output_type": "stream",
     "text": [
      "In month 7 there were:\n",
      "- 5646 crimes commited in location STREET\n",
      "- 3963 crimes commited in location RESIDENCE\n",
      "- 3062 crimes commited in location APARTMENT\n"
     ]
    }
   ],
   "source": [
    "print('In month '+ str(top3_months[0][0]) + ' there were:')\n",
    "print('- ' + str(top_locations[0][1]) + ' crimes commited in location ' + str(top_locations[0][0]))\n",
    "print('- ' + str(top_locations[1][1]) + ' crimes commited in location ' + str(top_locations[1][0]))\n",
    "print('- ' + str(top_locations[2][1]) + ' crimes commited in location ' + str(top_locations[2][0]))"
   ]
  },
  {
   "cell_type": "markdown",
   "metadata": {},
   "source": [
    "### 4. What are top-3 kind of crimes in the top location of the top month?"
   ]
  },
  {
   "cell_type": "markdown",
   "metadata": {},
   "source": [
    "instantiating defaultdict object"
   ]
  },
  {
   "cell_type": "code",
   "execution_count": null,
   "metadata": {},
   "outputs": [],
   "source": [
    "types_location_crimes = defaultdict(list)"
   ]
  },
  {
   "cell_type": "markdown",
   "metadata": {},
   "source": [
    "looping over data to get a list of crime types for top location in top month"
   ]
  },
  {
   "cell_type": "code",
   "execution_count": null,
   "metadata": {},
   "outputs": [],
   "source": [
    "for row in data:\n",
    "    month = datetime.strptime(row[0], \"%m/%d/%Y %I:%M:%S %p\").month\n",
    "    if (month==top3_months[0][0] and row[4] == top_locations[0][0]):\n",
    "        types_location_crimes[row[4]].append(row[2])"
   ]
  },
  {
   "cell_type": "markdown",
   "metadata": {},
   "source": [
    "count types per location using Counter"
   ]
  },
  {
   "cell_type": "code",
   "execution_count": 26,
   "metadata": {},
   "outputs": [
    {
     "name": "stdout",
     "output_type": "stream",
     "text": [
      "[('THEFT', 1257), ('CRIMINAL DAMAGE', 845), ('BATTERY', 773)]\n"
     ]
    }
   ],
   "source": [
    "for places, types in types_location_crimes.items():\n",
    "    count = Counter(types)\n",
    "    top_crime = count.most_common(3)\n",
    "    print(top_crime)"
   ]
  },
  {
   "cell_type": "markdown",
   "metadata": {},
   "source": [
    "###### Print top-3 crime types for the top location of the top month"
   ]
  },
  {
   "cell_type": "code",
   "execution_count": 27,
   "metadata": {},
   "outputs": [
    {
     "name": "stdout",
     "output_type": "stream",
     "text": [
      "In month 7 in location STREET there were:\n",
      "- 1257 crimes of type THEFT\n",
      "- 845 crimes of type CRIMINAL DAMAGE\n",
      "- 773 crimes of type BATTERY\n"
     ]
    }
   ],
   "source": [
    "print('In month '+ str(top3_months[0][0]) + ' in location ' + str(top_locations[0][0]) + ' there were:')\n",
    "print('- ' + str(top_crime[0][1]) + ' crimes of type ' + str(top_crime[0][0]))\n",
    "print('- ' + str(top_crime[1][1]) + ' crimes of type ' + str(top_crime[1][0]))\n",
    "print('- ' + str(top_crime[2][1]) + ' crimes of type ' + str(top_crime[2][0]))"
   ]
  },
  {
   "cell_type": "markdown",
   "metadata": {},
   "source": [
    "## FINAL CONCLUSION:"
   ]
  },
  {
   "cell_type": "code",
   "execution_count": 28,
   "metadata": {},
   "outputs": [
    {
     "name": "stdout",
     "output_type": "stream",
     "text": [
      "Try not to go to Chicago in 7th month of the year\n",
      "but if you do then try to avoid STREET\n",
      "but in case you cannot then protect yourself against THEFT:)))\n"
     ]
    }
   ],
   "source": [
    "print('Try not to go to Chicago in ' + str(top3_months[0][0]) + 'th month of the year' )\n",
    "print('but if you do then try to avoid ' + str(top_locations[0][0]))\n",
    "print('but in case you cannot then protect yourself against ' + str(top_crime[0][0]) + ':)))')"
   ]
  }
 ],
 "metadata": {
  "kernelspec": {
   "display_name": "Python 3",
   "language": "python",
   "name": "python3"
  },
  "language_info": {
   "codemirror_mode": {
    "name": "ipython",
    "version": 3
   },
   "file_extension": ".py",
   "mimetype": "text/x-python",
   "name": "python",
   "nbconvert_exporter": "python",
   "pygments_lexer": "ipython3",
   "version": "3.7.4"
  }
 },
 "nbformat": 4,
 "nbformat_minor": 2
}
